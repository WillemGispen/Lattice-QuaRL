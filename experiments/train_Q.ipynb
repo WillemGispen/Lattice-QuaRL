{
 "cells": [
  {
   "cell_type": "code",
   "execution_count": 1,
   "metadata": {
    "scrolled": true
   },
   "outputs": [],
   "source": [
    "import torch"
   ]
  },
  {
   "cell_type": "code",
   "execution_count": 2,
   "metadata": {
    "tags": []
   },
   "outputs": [],
   "source": [
    "%load_ext autoreload\n",
    "%autoreload 2"
   ]
  },
  {
   "cell_type": "code",
   "execution_count": 5,
   "metadata": {},
   "outputs": [],
   "source": [
    "import sys\n",
    "sys.path.append('../')"
   ]
  },
  {
   "cell_type": "code",
   "execution_count": 6,
   "metadata": {},
   "outputs": [],
   "source": [
    "import pytorch_lightning as pl\n",
    "import lattice\n",
    "from trainer import Trainer"
   ]
  },
  {
   "cell_type": "markdown",
   "metadata": {},
   "source": [
    "### Make hparams from default_hparams"
   ]
  },
  {
   "cell_type": "code",
   "execution_count": 7,
   "metadata": {
    "scrolled": true
   },
   "outputs": [],
   "source": [
    "hparams = lattice.Q_DEFAULT_HPARAMS"
   ]
  },
  {
   "cell_type": "code",
   "execution_count": 8,
   "metadata": {},
   "outputs": [],
   "source": [
    "hparams.potential = 'ising_potential'\n",
    "hparams.passive_rates = 'ising_passive_rates'\n",
    "# hparams.J = 0.32424925229  # Hamer pseudo-critical point for 4x4 # E0 goal: −1.066430308096\n",
    "# hparams.lattice_size = 4\n",
    "hparams.J = 0.32758326752  # Hamer pseudo-critical point for 6x6 # E0 goal: -1.063752757694\n",
    "hparams.lattice_size = 6\n",
    "hparams.g = 1.0\n",
    "hparams.E = -1.0\n",
    "\n",
    "# hparams.J = 1.0\n",
    "# hparams.lattice_size = 4\n",
    "# hparams.potential = 'xy_potential'\n",
    "# hparams.passive_rates = 'xy_passive_rates'\n",
    "# hparams.E = -1.0\n",
    "\n",
    "# hparams.potential = 'heisenberg_antiferromagnet_potential'\n",
    "# hparams.passive_rates = 'heisenberg_antiferromagnet_passive_rates'\n",
    "# hparams.J = 1.0\n",
    "# hparams.lattice_size = 4\n",
    "# hparams.E = 0.5\n",
    "# hparams.validate_fn = 'local_stoquastic_energy'\n",
    "\n",
    "# hparams.potential = 'bh_potential'\n",
    "# hparams.passive_rates = 'bh_passive_rates'\n",
    "# hparams.E = -1.0\n",
    "# hparams.lattice_size = 4"
   ]
  },
  {
   "cell_type": "code",
   "execution_count": 9,
   "metadata": {},
   "outputs": [],
   "source": [
    "hparams.concentration = 0.5001\n",
    "\n",
    "hparams.lr = 5e-4\n",
    "hparams.sync_rate = 20\n",
    "hparams.batch_size = 1024\n",
    "hparams.buffer_capacity = 64 * hparams.batch_size\n",
    "hparams.tau = 1e-6\n",
    "\n",
    "hparams.gamma_lr = 1.0\n",
    "hparams.hidden_channels = 32\n",
    "hparams.num_steps = 64\n",
    "hparams.epoch_size = 20"
   ]
  },
  {
   "cell_type": "code",
   "execution_count": 10,
   "metadata": {
    "tags": []
   },
   "outputs": [
    {
     "output_type": "stream",
     "name": "stdout",
     "text": "Namespace(E=-1.0, J=0.32758326752, batch_size=1024, buffer_capacity=65536, concentration=0.5001, epoch_size=20, g=1.0, gamma_lr=1.0, git_commit='27c8f5c', hidden_channels=32, holding=True, kernel_size=3, lattice_size=4, loss_fn='bellman', lr=0.0005, net='QPeriodicCNN', num_steps=64, passive_rates='ising_passive_rates', potential='ising_potential', sync_rate=20, tau=1e-06, validate_fn='local_stoquastic_energy')\n"
    }
   ],
   "source": [
    "print(hparams)"
   ]
  },
  {
   "cell_type": "markdown",
   "metadata": {},
   "source": [
    "## Define model"
   ]
  },
  {
   "cell_type": "code",
   "execution_count": 11,
   "metadata": {
    "tags": []
   },
   "outputs": [],
   "source": [
    "model = lattice.QModel(hparams)"
   ]
  },
  {
   "cell_type": "markdown",
   "metadata": {},
   "source": [
    "## Train model"
   ]
  },
  {
   "cell_type": "code",
   "execution_count": 12,
   "metadata": {
    "tags": []
   },
   "outputs": [
    {
     "output_type": "stream",
     "name": "stderr",
     "text": "INFO:lightning:GPU available: False, used: False\n"
    }
   ],
   "source": [
    "trainer = Trainer(name='ising', max_epochs=100, nb_sanity_val_steps=1)\n",
    "# checkpoint_path = 'results/j1j2/version_61/_ckpt_epoch_49.ckpt'\n",
    "# # model = lattice.CModel.load_from_checkpoint(checkpoint_path)\n",
    "# # # model.load_state_dict(model2.state_dict())\n",
    "# # # model = model.cuda()\n",
    "# # model.eval()\n",
    "# trainer = Trainer(name='j1j2', gpus=[1], max_epochs=100, nb_sanity_val_steps=0,\n",
    "#                   version=61, resume_from_checkpoint=checkpoint_path)\n"
   ]
  },
  {
   "cell_type": "code",
   "execution_count": 12,
   "metadata": {},
   "outputs": [],
   "source": [
    "# torch.autograd.set_detect_anomaly(True)"
   ]
  },
  {
   "cell_type": "code",
   "execution_count": 13,
   "metadata": {
    "scrolled": true,
    "tags": []
   },
   "outputs": [
    {
     "output_type": "stream",
     "name": "stderr",
     "text": "INFO:lightning:\n   | Name                         | Type         | Params\n----------------------------------------------------------\n0  | Q_fn                         | QPeriodicCNN | 19 K  \n1  | Q_fn.initial_layer           | Sequential   | 320   \n2  | Q_fn.initial_layer.0         | Conv2d       | 320   \n3  | Q_fn.initial_layer.1         | ReLU         | 0     \n4  | Q_fn.inner_layers            | ModuleList   | 18 K  \n5  | Q_fn.inner_layers.0          | Sequential   | 9 K   \n6  | Q_fn.inner_layers.0.0        | Conv2d       | 9 K   \n7  | Q_fn.inner_layers.0.1        | ReLU         | 0     \n8  | Q_fn.inner_layers.1          | Sequential   | 9 K   \n9  | Q_fn.inner_layers.1.0        | Conv2d       | 9 K   \n10 | Q_fn.inner_layers.1.1        | ReLU         | 0     \n11 | Q_fn.final_layer             | Conv2d       | 289   \n12 | Q_target_fn                  | QPeriodicCNN | 19 K  \n13 | Q_target_fn.initial_layer    | Sequential   | 320   \n14 | Q_target_fn.initial_layer.0  | Conv2d       | 320   \n15 | Q_target_fn.initial_layer.1  | ReLU         | 0     \n16 | Q_target_fn.inner_layers     | ModuleList   | 18 K  \n17 | Q_target_fn.inner_layers.0   | Sequential   | 9 K   \n18 | Q_target_fn.inner_layers.0.0 | Conv2d       | 9 K   \n19 | Q_target_fn.inner_layers.0.1 | ReLU         | 0     \n20 | Q_target_fn.inner_layers.1   | Sequential   | 9 K   \n21 | Q_target_fn.inner_layers.1.0 | Conv2d       | 9 K   \n22 | Q_target_fn.inner_layers.1.1 | ReLU         | 0     \n23 | Q_target_fn.final_layer      | Conv2d       | 289   \nEpoch 1:  95%|█████████▌| 20/21 [03:54<00:11, 11.74s/it, loss=0.012, v_num=0]\nValidating: 0it [00:00, ?it/s]\u001b[A\nEpoch 1: 100%|██████████| 21/21 [04:14<00:00, 12.12s/it, loss=0.012, v_num=0]\nEpoch 2:  95%|█████████▌| 20/21 [04:18<00:12, 12.93s/it, loss=0.005, v_num=0]\nValidating: 0it [00:00, ?it/s]\u001b[A\nEpoch 2: 100%|██████████| 21/21 [04:40<00:00, 13.36s/it, loss=0.005, v_num=0]\nEpoch 3:  95%|█████████▌| 20/21 [03:05<00:09,  9.29s/it, loss=0.015, v_num=0]\nValidating: 0it [00:00, ?it/s]\u001b[A\nEpoch 3: 100%|██████████| 21/21 [03:18<00:00,  9.47s/it, loss=0.015, v_num=0]\nEpoch 4:  90%|█████████ | 19/21 [02:20<00:14,  7.39s/it, loss=0.025, v_num=0]INFO:lightning:Detected KeyboardInterrupt, attempting graceful shutdown...\nEpoch 4:  90%|█████████ | 19/21 [02:24<00:15,  7.61s/it, loss=0.025, v_num=0]\n"
    },
    {
     "output_type": "execute_result",
     "data": {
      "text/plain": "1"
     },
     "metadata": {},
     "execution_count": 13
    }
   ],
   "source": [
    "trainer.fit(model)"
   ]
  },
  {
   "cell_type": "code",
   "execution_count": 14,
   "metadata": {
    "tags": []
   },
   "outputs": [
    {
     "output_type": "stream",
     "name": "stdout",
     "text": "-0.2666666805744171\n"
    }
   ],
   "source": [
    "print(model.minHss)"
   ]
  },
  {
   "cell_type": "markdown",
   "metadata": {},
   "source": [
    "### Load trained model"
   ]
  },
  {
   "cell_type": "code",
   "execution_count": 16,
   "metadata": {},
   "outputs": [],
   "source": [
    "# checkpoint_path = 'results/ising/version_5/_ckpt_epoch_1.ckpt'\n",
    "# model = lattice.Model.load_from_checkpoint(checkpoint_path)"
   ]
  },
  {
   "cell_type": "markdown",
   "metadata": {},
   "source": [
    "### Resume training"
   ]
  },
  {
   "cell_type": "code",
   "execution_count": 17,
   "metadata": {},
   "outputs": [],
   "source": [
    "# trainer = Trainer(name='H2', gpus=[3],\n",
    "#                   version=0, resume_from_checkpoint=checkpoint_path)\n",
    "# trainer.fit(model)"
   ]
  }
 ],
 "metadata": {
  "kernelspec": {
   "display_name": "Python 3.7.5 64-bit ('rl4qm': conda)",
   "language": "python",
   "name": "python_defaultSpec_1612704749930"
  },
  "language_info": {
   "codemirror_mode": {
    "name": "ipython",
    "version": 3
   },
   "file_extension": ".py",
   "mimetype": "text/x-python",
   "name": "python",
   "nbconvert_exporter": "python",
   "pygments_lexer": "ipython3",
   "version": "3.7.5-final"
  }
 },
 "nbformat": 4,
 "nbformat_minor": 2
}